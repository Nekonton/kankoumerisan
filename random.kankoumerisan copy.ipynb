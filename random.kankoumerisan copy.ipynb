{
 "cells": [
  {
   "cell_type": "code",
   "execution_count": null,
   "metadata": {},
   "outputs": [],
   "source": [
    "from selenium import webdriver\n",
    "from selenium.webdriver import ChromeOptions\n",
    "from selenium.webdriver.support.ui import WebDriverWait\n",
    "from selenium.webdriver.support import expected_conditions as EC\n",
    "from selenium.webdriver.common.by import By\n",
    "from selenium.webdriver.common.keys import Keys\n",
    "from selenium.webdriver.chrome import service as fs\n",
    "from selenium.webdriver.chrome.service import Service\n",
    "from webdriver_manager.chrome import ChromeDriverManager\n",
    "import time"
   ]
  },
  {
   "cell_type": "code",
   "execution_count": null,
   "id": "c4a30934",
   "metadata": {},
   "outputs": [],
   "source": [
    "#!pip install geopy"
   ]
  },
  {
   "cell_type": "code",
   "execution_count": null,
   "id": "08538d3a",
   "metadata": {},
   "outputs": [],
   "source": [
    "pip install webdriver_manager"
   ]
  },
  {
   "cell_type": "code",
   "execution_count": null,
   "id": "143f0c36",
   "metadata": {},
   "outputs": [],
   "source": [
    "from webdriver_manager.chrome import ChromeDriverManager"
   ]
  },
  {
   "cell_type": "code",
   "execution_count": null,
   "id": "66617ee3",
   "metadata": {},
   "outputs": [],
   "source": [
    "#ken_num = [hokkaido,aomori,iwate,miyagi,akita,yamagata,fukushima,ibaragi,tochigi,gunma,saitama,chiba,tokyo,kanagawa,niigata,toyama,ishikawa,fukui,yamanashi,nagano,gifu,shizuoka,aichi,mie,shiga,kyoto,oosaka,hyogo,nara,wakayama,tottori,simane,okayama,hiroshima,yamaguchi,tokushima,kagawa,ehime,kouchi,fukuoka,saga,nagasaki,kumamoto,ooita,miyazaki,kagoshima,okinawa]\n",
    "#print(len(ken_num))\n",
    "#for i in ken_num:\n",
    "#  print(i)"
   ]
  },
  {
   "cell_type": "code",
   "execution_count": null,
   "id": "922a86d8",
   "metadata": {},
   "outputs": [],
   "source": [
    "from geopy.distance import geodesic"
   ]
  },
  {
   "cell_type": "code",
   "execution_count": null,
   "id": "5fd09279",
   "metadata": {},
   "outputs": [],
   "source": [
    "geo_hokkaido = 43.06417,141.34694\n",
    "geo_aomori = 40.82444,140.74\n",
    "geo_iwate = 39.70361,141.1525\n",
    "geo_miyagi = 38.26889,140.87194\n",
    "geo_akita = 39.71861,140.1025\n",
    "geo_yamagata = 38.24056,140.36333\n",
    "geo_fukushima = 37.75,140.46778\n",
    "geo_ibaragi = 36.34139,140.44667\n",
    "geo_tochigi = 36.56583,139.88361\n",
    "geo_gunma = 36.39111,139.06083\n",
    "geo_saitama = 35.85694,139.64889\n",
    "geo_chiba = 35.60472,140.12333\n",
    "geo_tokyo = 35.68944,139.69167\n",
    "geo_kanagawa = 35.44778,139.6425\n",
    "geo_niigata = 37.90222,139.02361\n",
    "geo_toyama = 36.69528,137.21139\n",
    "geo_ishikawa = 36.59444,136.62556\n",
    "geo_fukui = 36.06528,136.22194\n",
    "geo_yamanashi = 35.66389,138.56833\n",
    "geo_nagano = 36.65139,138.18111\n",
    "geo_gifu = 35.39111,136.72222\n",
    "geo_shizuoka = 34.97694,138.38306\n",
    "geo_aichi = 35.18028,136.90667\n",
    "geo_mie = 34.73028,136.50861\n",
    "geo_shiga = 35.00444,135.86833\n",
    "geo_kyoto = 35.02139,135.75556\n",
    "geo_oosaka = 34.68639,135.52\n",
    "geo_hyogo = 34.69139,135.18306\n",
    "geo_nara = 34.68528,135.83278\n",
    "geo_wakayama = 34.22611,135.1675\n",
    "geo_tottori = 35.50361,134.23833\n",
    "geo_shimane = 35.47222,133.05056\n",
    "geo_okayama = 34.66167,133.935\n",
    "geo_hiroshima = 34.39639,132.45944\n",
    "geo_yamaguchi = 34.18583,131.47139\n",
    "geo_tokushima = 34.06583,134.55944\n",
    "geo_kagawa = 34.34028,134.04333\n",
    "geo_ehime = 33.84167,132.76611\n",
    "geo_kouchi = 33.55972,133.53111\n",
    "geo_fukuoka = 33.60639,130.41806\n",
    "geo_saga = 33.24944,130.29889\n",
    "geo_nagasaki = 32.74472,129.87361\n",
    "geo_kumamoto = 32.78972,130.74167\n",
    "geo_ooita = 33.23806,131.6125\n",
    "geo_miyazaki = 31.91111,131.42389\n",
    "geo_kagoshima = 31.56028,130.55806\n",
    "geo_okinawa = 26.2125,127.68111\n"
   ]
  },
  {
   "cell_type": "code",
   "execution_count": null,
   "id": "18ffb3ba",
   "metadata": {},
   "outputs": [],
   "source": [
    "import random\n",
    "loc_yourlocation = random.randint(0,46)\n",
    "#loc_yourlocation = 1\n",
    "print(loc_yourlocation)"
   ]
  },
  {
   "cell_type": "code",
   "execution_count": null,
   "id": "f2537d19",
   "metadata": {},
   "outputs": [],
   "source": [
    "if loc_yourlocation == 0:\n",
    "  yourlocation = geo_hokkaido\n",
    "\n",
    "elif loc_yourlocation == 1:\n",
    "  yourlocation = geo_aomori\n",
    "\n",
    "elif loc_yourlocation == 2:\n",
    "  yourlocation = geo_iwate\n",
    "\n",
    "elif loc_yourlocation == 3:\n",
    "  yourlocation = geo_miyagi\n",
    "\n",
    "elif loc_yourlocation == 4:\n",
    "  yourlocation = geo_akita\n",
    "\n",
    "elif loc_yourlocation == 5:\n",
    "  yourlocation = geo_yamagata\n",
    "\n",
    "elif loc_yourlocation == 6:\n",
    "  yourlocation = geo_fukushima\n",
    "\n",
    "elif loc_yourlocation == 7:\n",
    "  yourlocation = geo_ibaragi\n",
    "\n",
    "elif loc_yourlocation == 8:\n",
    "  yourlocation = geo_tochigi\n",
    "\n",
    "elif loc_yourlocation == 9:\n",
    "  yourlocation = geo_gunma\n",
    "\n",
    "elif loc_yourlocation == 10:\n",
    "  yourlocation = geo_saitama\n",
    "\n",
    "elif loc_yourlocation == 11:\n",
    "  yourlocation = geo_chiba\n",
    "\n",
    "elif loc_yourlocation == 12:\n",
    "  yourlocation = geo_tokyo\n",
    "\n",
    "elif loc_yourlocation == 13:\n",
    "  yourlocation = geo_kanagawa\n",
    "\n",
    "elif loc_yourlocation == 14:\n",
    "  yourlocation = geo_niigata\n",
    "\n",
    "elif loc_yourlocation == 15:\n",
    "  yourlocation = geo_toyama\n",
    "\n",
    "elif loc_yourlocation == 16:\n",
    "  yourlocation = geo_ishikawa\n",
    "\n",
    "elif loc_yourlocation == 17:\n",
    "  yourlocation = geo_fukui\n",
    "\n",
    "elif loc_yourlocation == 18:\n",
    "  yourlocation = geo_yamanashi\n",
    "\n",
    "elif loc_yourlocation == 19:\n",
    "  yourlocation = geo_nagano\n",
    "\n",
    "elif loc_yourlocation == 20:\n",
    "  yourlocation = geo_gifu\n",
    "\n",
    "elif loc_yourlocation == 21:\n",
    "  yourlocation = geo_shizuoka\n",
    "\n",
    "elif loc_yourlocation == 22:\n",
    "  yourlocation = geo_aichi\n",
    "\n",
    "elif loc_yourlocation == 23:\n",
    "  yourlocation = geo_mie\n",
    "\n",
    "elif loc_yourlocation == 24:\n",
    "  yourlocation = geo_shiga\n",
    "\n",
    "elif loc_yourlocation == 25:\n",
    "  yourlocation = geo_kyoto\n",
    "\n",
    "elif loc_yourlocation == 26:\n",
    "  yourlocation = geo_oosaka\n",
    "\n",
    "elif loc_yourlocation == 27:\n",
    "  yourlocation = geo_hyogo\n",
    "\n",
    "elif loc_yourlocation == 28:\n",
    "  yourlocation = geo_nara\n",
    "\n",
    "elif loc_yourlocation == 29:\n",
    "  yourlocation = geo_wakayama\n",
    "\n",
    "elif loc_yourlocation == 30:\n",
    "  yourlocation = geo_tottori\n",
    "\n",
    "elif loc_yourlocation == 31:\n",
    "  yourlocation = geo_shimane\n",
    "\n",
    "elif loc_yourlocation == 32:\n",
    "  yourlocation = geo_okayama\n",
    "\n",
    "elif loc_yourlocation == 33:\n",
    "  yourlocation = geo_hiroshima\n",
    "\n",
    "elif loc_yourlocation == 34:\n",
    "  yourlocation = geo_yamaguchi\n",
    "\n",
    "elif loc_yourlocation == 35:\n",
    "  yourlocation = geo_tokushima\n",
    "\n",
    "elif loc_yourlocation == 36:\n",
    "  yourlocation = geo_kagawa\n",
    "\n",
    "elif loc_yourlocation == 37:\n",
    "  yourlocation = geo_ehime\n",
    "\n",
    "elif loc_yourlocation == 38:\n",
    "  yourlocation = geo_kouchi\n",
    "\n",
    "elif loc_yourlocation == 39:\n",
    "  yourlocation = geo_fukuoka\n",
    "\n",
    "elif loc_yourlocation == 40:\n",
    "  yourlocation = geo_saga\n",
    "\n",
    "elif loc_yourlocation == 41:\n",
    "  yourlocation = geo_nagasaki\n",
    "\n",
    "elif loc_yourlocation == 42:\n",
    "  yourlocation = geo_kumamoto\n",
    "\n",
    "elif loc_yourlocation == 43:\n",
    "  yourlocation = geo_ooita\n",
    "\n",
    "elif loc_yourlocation == 44:\n",
    "  yourlocation = geo_miyazaki\n",
    "\n",
    "elif loc_yourlocation == 45:\n",
    "  yourlocation = geo_kagoshima\n",
    "\n",
    "else:\n",
    "  yourlocation = geo_okinawa"
   ]
  },
  {
   "cell_type": "code",
   "execution_count": null,
   "id": "ebfb4a73",
   "metadata": {},
   "outputs": [],
   "source": [
    "ken_list = [\"hokkaido\",\"aomori\",\"iwate\",\"miyagi\",\"akita\",\"yamagata\",\"fukushima\",\"ibaragi\",\"tochigi\",\"gunma\",\"saitama\",\"chiba\",\"tokyo\",\"kanagawa\",\"niigata\",\"toyama\",\"ishikawa\",\"fukui\",\"yamanashi\",\"nagano\",\"gifu\",\"shizuoka\",\"aichi\",\"mie\",\"shiga\",\"kyoto\",\"oosaka\",\"hyogo\",\"nara\",\"wakayama\",\"tottori\",\"simane\",\"okayama\",\"hiroshima\",\"yamaguchi\",\"tokushima\",\"kagawa\",\"ehime\",\"kouchi\",\"fukuoka\",\"saga\",\"nagasaki\",\"kumamoto\",\"ooita\",\"miyazaki\",\"kagoshima\",\"okinawa\"]"
   ]
  },
  {
   "cell_type": "code",
   "execution_count": null,
   "id": "70906a86",
   "metadata": {},
   "outputs": [],
   "source": [
    "print(loc_yourlocation)\n",
    "print(yourlocation)\n",
    "print(ken_list)"
   ]
  },
  {
   "cell_type": "code",
   "execution_count": null,
   "id": "b5bc1cfd",
   "metadata": {},
   "outputs": [],
   "source": [
    "#print(loc_aomori)"
   ]
  },
  {
   "cell_type": "code",
   "execution_count": null,
   "id": "cc1f07e8",
   "metadata": {},
   "outputs": [],
   "source": [
    "#for i in range(loc_aomori):\n",
    "#  ken_list.pop(i)\n",
    "#print(len(ken_list))\n",
    "#print(ken_list)"
   ]
  },
  {
   "cell_type": "code",
   "execution_count": null,
   "id": "54048961",
   "metadata": {},
   "outputs": [],
   "source": [
    "#ken = [hokkaido,aomori,iwate,miyagi,akita,yamagata,fukushima,ibaragi,tochigi,gunma,saitama,chiba,tokyo,kanagawa,niigata,toyama,ishikawa,fukui,yamanashi,nagano,gifu,shizuoka,aichi,mie,shiga,kyoto,oosaka,hyogo,nara,wakayama,tottori,simane,okayama,hiroshima,yamaguchi,tokushima,kagawa,ehime,kouchi,fukuoka,saga,nagasaki,kumamoto,ooita,miyazaki,kagoshima,okinawa]"
   ]
  },
  {
   "cell_type": "code",
   "execution_count": null,
   "id": "e639a28c",
   "metadata": {},
   "outputs": [],
   "source": [
    "#print(len(ken))\n",
    "#print(ken)\n",
    "#for i in ken:\n",
    "#  print(i)"
   ]
  },
  {
   "cell_type": "code",
   "execution_count": null,
   "id": "a5a64e11",
   "metadata": {},
   "outputs": [],
   "source": [
    "dis_hokkaido = geodesic(yourlocation,geo_hokkaido).km\n",
    "dis_okinawa = geodesic(yourlocation,geo_okinawa).km"
   ]
  },
  {
   "cell_type": "code",
   "execution_count": null,
   "id": "2a573936",
   "metadata": {},
   "outputs": [],
   "source": [
    "math_01 = dis_hokkaido-dis_okinawa\n"
   ]
  },
  {
   "cell_type": "code",
   "execution_count": null,
   "id": "e41a8af7",
   "metadata": {},
   "outputs": [],
   "source": [
    "print(dis_hokkaido)"
   ]
  },
  {
   "cell_type": "code",
   "execution_count": null,
   "id": "109c7cb1",
   "metadata": {},
   "outputs": [],
   "source": [
    "print(dis_okinawa)"
   ]
  },
  {
   "cell_type": "code",
   "execution_count": null,
   "id": "99630cda",
   "metadata": {},
   "outputs": [],
   "source": [
    "math_01 = dis_hokkaido-dis_okinawa"
   ]
  },
  {
   "cell_type": "code",
   "execution_count": null,
   "id": "971a486c",
   "metadata": {},
   "outputs": [],
   "source": [
    "print(math_01)"
   ]
  },
  {
   "cell_type": "code",
   "execution_count": null,
   "id": "ede8532b",
   "metadata": {},
   "outputs": [],
   "source": [
    "#geomath = geodesic(A,B).km"
   ]
  },
  {
   "cell_type": "code",
   "execution_count": null,
   "id": "361ebe55",
   "metadata": {},
   "outputs": [],
   "source": [
    "if math_01 < 0:\n",
    "  print(\"沖縄から観光\")\n",
    "else:\n",
    "  print(\"北海道から観光\")"
   ]
  },
  {
   "cell_type": "code",
   "execution_count": null,
   "id": "9a006596",
   "metadata": {},
   "outputs": [],
   "source": [
    "print(len(ken_list))\n",
    "print(ken_list)"
   ]
  },
  {
   "cell_type": "code",
   "execution_count": null,
   "id": "1cd5ded5",
   "metadata": {},
   "outputs": [],
   "source": [
    "#import random\n",
    "#loc_yourlocation = random.randint(0,45)\n",
    "#print(loc_yourlocation)"
   ]
  },
  {
   "cell_type": "code",
   "execution_count": null,
   "id": "ae68d840",
   "metadata": {},
   "outputs": [],
   "source": [
    "from time import sleep"
   ]
  },
  {
   "cell_type": "code",
   "execution_count": null,
   "id": "88585fcb",
   "metadata": {},
   "outputs": [],
   "source": [
    "#del ken_list[0:loc_yourlocation+1]\n",
    "#print(len(ken_list))"
   ]
  },
  {
   "cell_type": "code",
   "execution_count": null,
   "id": "c8f8d2bd",
   "metadata": {},
   "outputs": [],
   "source": [
    "print(ken_list)"
   ]
  },
  {
   "cell_type": "code",
   "execution_count": null,
   "id": "7517debc",
   "metadata": {},
   "outputs": [],
   "source": [
    "#print(len(ken_list))\n",
    "if math_01 < 0:\n",
    "#  print(\"沖縄から観光\")#北海道が近い場合\n",
    "  del ken_list[0:loc_yourlocation+1]\n",
    "  ken_list.reverse()\n",
    "  \n",
    "  for j in ken_list:\n",
    "  \n",
    "    print(\"わたし、めりーさん\")\n",
    "    sleep(2)\n",
    "    print(\"今日はどこへ行こうかしら\")\n",
    "    sleep(2)\n",
    "    print(\"今 \" + j + \"にいるの\" )\n",
    "    browser = webdriver.Chrome()\n",
    "    browser.get('https://www.google.co.jp/')\n",
    "    elem_mapsearch = browser.find_element_by_name('q')\n",
    "    elem_mapsearch.send_keys(j + \" 観光地\")\n",
    "    sleep(2)\n",
    "    elem_search_btn = browser.find_element_by_name('btnK')\n",
    "    elem_search_btn.click()\n",
    "    sleep(2)\n",
    "    elem_spanclass_spot = browser.find_element_by_css_selector('span.aVSTQd.tNxQIb.OSrXXb')\n",
    "    elem_spanclass_comment = browser.find_element_by_css_selector('span.ZIF80')\n",
    "    elem_spanclass_hoshi = browser.find_element_by_css_selector(' span.WYGzTd')\n",
    "    print(\"さっき \" + elem_spanclass_comment.text + ' で有名な ' + elem_spanclass_spot.text + \" に行ってきたの \" + \"  評価は、★\")\n",
    "    sleep(2)\n",
    "    print(elem_spanclass_hoshi.text + \" ってところね\" )\n",
    "    print(\" \")\n",
    "    sleep(3)\n",
    "\n",
    "else:\n",
    "#  print(\"北海道から観光\") #沖縄が近い場合\n",
    "  del ken_list[loc_yourlocation:47]\n",
    "  \n",
    "  \n",
    "  for j in ken_list:\n",
    "  \n",
    "    print(\"わたし、めりーさん\")\n",
    "    sleep(2)\n",
    "    print(\"今日はどこへ行こうかしら\")\n",
    "    sleep(2)\n",
    "    print(\"今 \" + j + \" にいるの\" )\n",
    "    browser = webdriver.Chrome()\n",
    "    browser.get('https://www.google.co.jp/')\n",
    "    elem_mapsearch = browser.find_element_by_name('q')\n",
    "    elem_mapsearch.send_keys(j + \" 観光地\")\n",
    "    sleep(2)\n",
    "    elem_search_btn = browser.find_element_by_name('btnK')\n",
    "    elem_search_btn.click()\n",
    "    sleep(2)\n",
    "    elem_spanclass_spot = browser.find_element_by_css_selector('span.aVSTQd.tNxQIb.OSrXXb')\n",
    "    elem_spanclass_comment = browser.find_element_by_css_selector('span.ZIF80')\n",
    "    elem_spanclass_hoshi = browser.find_element_by_css_selector(' span.WYGzTd')\n",
    "    print(\"さっき \" + elem_spanclass_comment.text + ' で有名な ' + elem_spanclass_spot.text + \" に行ってきたの \")\n",
    "    sleep(2)\n",
    "    print(\"評価は、★\" + elem_spanclass_hoshi.text + \" ってところね\" )\n",
    "    print(\" \")\n",
    "    sleep(3)"
   ]
  },
  {
   "cell_type": "code",
   "execution_count": null,
   "id": "00d9fa73",
   "metadata": {},
   "outputs": [],
   "source": [
    "#del ken_list[0:32]\n",
    "#print(ken_list)"
   ]
  },
  {
   "cell_type": "code",
   "execution_count": null,
   "id": "d398c7ae",
   "metadata": {},
   "outputs": [],
   "source": [
    "ken_list.reverse()\n",
    "print(ken_list)"
   ]
  },
  {
   "cell_type": "code",
   "execution_count": null,
   "id": "82e2a837",
   "metadata": {},
   "outputs": [],
   "source": [
    "print(\"わたし、めりーさん\")\n",
    "sleep(5)\n",
    "print(\"いま、あなたの家の前にいるの\")\n",
    "sleep(5)\n",
    "print(\"お土産で両手がいっぱいだから、はやく開けてちょうだい\")\n",
    "sleep(3)\n",
    "print(\"thank you for watchin Yoshiki Miyoshi\")"
   ]
  }
 ],
 "metadata": {
  "kernelspec": {
   "display_name": "Python 3.9.13 ('base')",
   "language": "python",
   "name": "python3"
  },
  "language_info": {
   "codemirror_mode": {
    "name": "ipython",
    "version": 3
   },
   "file_extension": ".py",
   "mimetype": "text/x-python",
   "name": "python",
   "nbconvert_exporter": "python",
   "pygments_lexer": "ipython3",
   "version": "3.9.13"
  },
  "vscode": {
   "interpreter": {
    "hash": "1bafd2bcef2f4d923bd77c7ce895d1f4d384ac9bc402929086ad07215babbdf7"
   }
  }
 },
 "nbformat": 4,
 "nbformat_minor": 5
}
