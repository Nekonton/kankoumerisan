{
 "cells": [
  {
   "cell_type": "code",
   "execution_count": 33,
   "metadata": {},
   "outputs": [],
   "source": [
    "from selenium import webdriver\n",
    "from selenium.webdriver import ChromeOptions\n",
    "from selenium.webdriver.support.ui import WebDriverWait\n",
    "from selenium.webdriver.support import expected_conditions as EC\n",
    "from selenium.webdriver.common.by import By\n",
    "from selenium.webdriver.common.keys import Keys\n",
    "from selenium.webdriver.chrome import service as fs\n",
    "from selenium.webdriver.chrome.service import Service\n",
    "from webdriver_manager.chrome import ChromeDriverManager\n",
    "import time"
   ]
  },
  {
   "cell_type": "code",
   "execution_count": 34,
   "id": "c4a30934",
   "metadata": {},
   "outputs": [],
   "source": [
    "#!pip install geopy"
   ]
  },
  {
   "cell_type": "code",
   "execution_count": 35,
   "id": "08538d3a",
   "metadata": {},
   "outputs": [
    {
     "name": "stdout",
     "output_type": "stream",
     "text": [
      "Requirement already satisfied: webdriver_manager in c:\\users\\nekot\\anaconda3\\lib\\site-packages (3.8.5)\n",
      "Requirement already satisfied: tqdm in c:\\users\\nekot\\anaconda3\\lib\\site-packages (from webdriver_manager) (4.64.1)\n",
      "Requirement already satisfied: packaging in c:\\users\\nekot\\anaconda3\\lib\\site-packages (from webdriver_manager) (21.3)\n",
      "Requirement already satisfied: requests in c:\\users\\nekot\\anaconda3\\lib\\site-packages (from webdriver_manager) (2.28.1)\n",
      "Requirement already satisfied: python-dotenv in c:\\users\\nekot\\anaconda3\\lib\\site-packages (from webdriver_manager) (0.21.0)\n",
      "Requirement already satisfied: pyparsing!=3.0.5,>=2.0.2 in c:\\users\\nekot\\anaconda3\\lib\\site-packages (from packaging->webdriver_manager) (3.0.9)\n",
      "Requirement already satisfied: urllib3<1.27,>=1.21.1 in c:\\users\\nekot\\anaconda3\\lib\\site-packages (from requests->webdriver_manager) (1.26.13)\n",
      "Requirement already satisfied: charset-normalizer<3,>=2 in c:\\users\\nekot\\anaconda3\\lib\\site-packages (from requests->webdriver_manager) (2.0.4)\n",
      "Requirement already satisfied: certifi>=2017.4.17 in c:\\users\\nekot\\anaconda3\\lib\\site-packages (from requests->webdriver_manager) (2022.9.24)\n",
      "Requirement already satisfied: idna<4,>=2.5 in c:\\users\\nekot\\anaconda3\\lib\\site-packages (from requests->webdriver_manager) (3.4)\n",
      "Requirement already satisfied: colorama in c:\\users\\nekot\\anaconda3\\lib\\site-packages (from tqdm->webdriver_manager) (0.4.5)\n",
      "Note: you may need to restart the kernel to use updated packages.\n"
     ]
    },
    {
     "name": "stderr",
     "output_type": "stream",
     "text": [
      "WARNING: Ignoring invalid distribution - (c:\\users\\nekot\\anaconda3\\lib\\site-packages)\n",
      "WARNING: Ignoring invalid distribution -ffi (c:\\users\\nekot\\anaconda3\\lib\\site-packages)\n",
      "WARNING: Ignoring invalid distribution - (c:\\users\\nekot\\anaconda3\\lib\\site-packages)\n",
      "WARNING: Ignoring invalid distribution -ffi (c:\\users\\nekot\\anaconda3\\lib\\site-packages)\n",
      "WARNING: Ignoring invalid distribution - (c:\\users\\nekot\\anaconda3\\lib\\site-packages)\n",
      "WARNING: Ignoring invalid distribution -ffi (c:\\users\\nekot\\anaconda3\\lib\\site-packages)\n",
      "WARNING: Ignoring invalid distribution - (c:\\users\\nekot\\anaconda3\\lib\\site-packages)\n",
      "WARNING: Ignoring invalid distribution -ffi (c:\\users\\nekot\\anaconda3\\lib\\site-packages)\n",
      "WARNING: Ignoring invalid distribution - (c:\\users\\nekot\\anaconda3\\lib\\site-packages)\n",
      "WARNING: Ignoring invalid distribution -ffi (c:\\users\\nekot\\anaconda3\\lib\\site-packages)\n",
      "WARNING: Ignoring invalid distribution - (c:\\users\\nekot\\anaconda3\\lib\\site-packages)\n",
      "WARNING: Ignoring invalid distribution -ffi (c:\\users\\nekot\\anaconda3\\lib\\site-packages)\n"
     ]
    }
   ],
   "source": [
    "pip install webdriver_manager"
   ]
  },
  {
   "cell_type": "code",
   "execution_count": 36,
   "id": "143f0c36",
   "metadata": {},
   "outputs": [],
   "source": [
    "from webdriver_manager.chrome import ChromeDriverManager"
   ]
  },
  {
   "cell_type": "code",
   "execution_count": 37,
   "id": "66617ee3",
   "metadata": {},
   "outputs": [],
   "source": [
    "#ken_num = [hokkaido,aomori,iwate,miyagi,akita,yamagata,fukushima,ibaragi,tochigi,gunma,saitama,chiba,tokyo,kanagawa,niigata,toyama,ishikawa,fukui,yamanashi,nagano,gifu,shizuoka,aichi,mie,shiga,kyoto,oosaka,hyogo,nara,wakayama,tottori,simane,okayama,hiroshima,yamaguchi,tokushima,kagawa,ehime,kouchi,fukuoka,saga,nagasaki,kumamoto,ooita,miyazaki,kagoshima,okinawa]\n",
    "#print(len(ken_num))\n",
    "#for i in ken_num:\n",
    "#  print(i)"
   ]
  },
  {
   "cell_type": "code",
   "execution_count": 38,
   "id": "922a86d8",
   "metadata": {},
   "outputs": [],
   "source": [
    "from geopy.distance import geodesic"
   ]
  },
  {
   "cell_type": "code",
   "execution_count": 39,
   "id": "5fd09279",
   "metadata": {},
   "outputs": [],
   "source": [
    "geo_hokkaido = 43.06417,141.34694\n",
    "geo_aomori = 40.82444,140.74\n",
    "geo_iwate = 39.70361,141.1525\n",
    "geo_miyagi = 38.26889,140.87194\n",
    "geo_akita = 39.71861,140.1025\n",
    "geo_yamagata = 38.24056,140.36333\n",
    "geo_fukushima = 37.75,140.46778\n",
    "geo_ibaragi = 36.34139,140.44667\n",
    "geo_tochigi = 36.56583,139.88361\n",
    "geo_gunma = 36.39111,139.06083\n",
    "geo_saitama = 35.85694,139.64889\n",
    "geo_chiba = 35.60472,140.12333\n",
    "geo_tokyo = 35.68944,139.69167\n",
    "geo_kanagawa = 35.44778,139.6425\n",
    "geo_niigata = 37.90222,139.02361\n",
    "geo_toyama = 36.69528,137.21139\n",
    "geo_ishikawa = 36.59444,136.62556\n",
    "geo_fukui = 36.06528,136.22194\n",
    "geo_yamanashi = 35.66389,138.56833\n",
    "geo_nagano = 36.65139,138.18111\n",
    "geo_gifu = 35.39111,136.72222\n",
    "geo_shizuoka = 34.97694,138.38306\n",
    "geo_aichi = 35.18028,136.90667\n",
    "geo_mie = 34.73028,136.50861\n",
    "geo_shiga = 35.00444,135.86833\n",
    "geo_kyoto = 35.02139,135.75556\n",
    "geo_oosaka = 34.68639,135.52\n",
    "geo_hyogo = 34.69139,135.18306\n",
    "geo_nara = 34.68528,135.83278\n",
    "geo_wakayama = 34.22611,135.1675\n",
    "geo_tottori = 35.50361,134.23833\n",
    "geo_shimane = 35.47222,133.05056\n",
    "geo_okayama = 34.66167,133.935\n",
    "geo_hiroshima = 34.39639,132.45944\n",
    "geo_yamaguchi = 34.18583,131.47139\n",
    "geo_tokushima = 34.06583,134.55944\n",
    "geo_kagawa = 34.34028,134.04333\n",
    "geo_ehime = 33.84167,132.76611\n",
    "geo_kouchi = 33.55972,133.53111\n",
    "geo_fukuoka = 33.60639,130.41806\n",
    "geo_saga = 33.24944,130.29889\n",
    "geo_nagasaki = 32.74472,129.87361\n",
    "geo_kumamoto = 32.78972,130.74167\n",
    "geo_ooita = 33.23806,131.6125\n",
    "geo_miyazaki = 31.91111,131.42389\n",
    "geo_kagoshima = 31.56028,130.55806\n",
    "geo_okinawa = 26.2125,127.68111\n"
   ]
  },
  {
   "cell_type": "code",
   "execution_count": 40,
   "id": "18ffb3ba",
   "metadata": {},
   "outputs": [
    {
     "name": "stdout",
     "output_type": "stream",
     "text": [
      "21\n"
     ]
    }
   ],
   "source": [
    "import random\n",
    "loc_yourlocation = random.randint(0,46)\n",
    "#loc_yourlocation = 1\n",
    "print(loc_yourlocation)"
   ]
  },
  {
   "cell_type": "code",
   "execution_count": 41,
   "id": "f2537d19",
   "metadata": {},
   "outputs": [],
   "source": [
    "if loc_yourlocation == 0:\n",
    "  yourlocation = geo_hokkaido\n",
    "\n",
    "elif loc_yourlocation == 1:\n",
    "  yourlocation = geo_aomori\n",
    "\n",
    "elif loc_yourlocation == 2:\n",
    "  yourlocation = geo_iwate\n",
    "\n",
    "elif loc_yourlocation == 3:\n",
    "  yourlocation = geo_miyagi\n",
    "\n",
    "elif loc_yourlocation == 4:\n",
    "  yourlocation = geo_akita\n",
    "\n",
    "elif loc_yourlocation == 5:\n",
    "  yourlocation = geo_yamagata\n",
    "\n",
    "elif loc_yourlocation == 6:\n",
    "  yourlocation = geo_fukushima\n",
    "\n",
    "elif loc_yourlocation == 7:\n",
    "  yourlocation = geo_ibaragi\n",
    "\n",
    "elif loc_yourlocation == 8:\n",
    "  yourlocation = geo_tochigi\n",
    "\n",
    "elif loc_yourlocation == 9:\n",
    "  yourlocation = geo_gunma\n",
    "\n",
    "elif loc_yourlocation == 10:\n",
    "  yourlocation = geo_saitama\n",
    "\n",
    "elif loc_yourlocation == 11:\n",
    "  yourlocation = geo_chiba\n",
    "\n",
    "elif loc_yourlocation == 12:\n",
    "  yourlocation = geo_tokyo\n",
    "\n",
    "elif loc_yourlocation == 13:\n",
    "  yourlocation = geo_kanagawa\n",
    "\n",
    "elif loc_yourlocation == 14:\n",
    "  yourlocation = geo_niigata\n",
    "\n",
    "elif loc_yourlocation == 15:\n",
    "  yourlocation = geo_toyama\n",
    "\n",
    "elif loc_yourlocation == 16:\n",
    "  yourlocation = geo_ishikawa\n",
    "\n",
    "elif loc_yourlocation == 17:\n",
    "  yourlocation = geo_fukui\n",
    "\n",
    "elif loc_yourlocation == 18:\n",
    "  yourlocation = geo_yamanashi\n",
    "\n",
    "elif loc_yourlocation == 19:\n",
    "  yourlocation = geo_nagano\n",
    "\n",
    "elif loc_yourlocation == 20:\n",
    "  yourlocation = geo_gifu\n",
    "\n",
    "elif loc_yourlocation == 21:\n",
    "  yourlocation = geo_shizuoka\n",
    "\n",
    "elif loc_yourlocation == 22:\n",
    "  yourlocation = geo_aichi\n",
    "\n",
    "elif loc_yourlocation == 23:\n",
    "  yourlocation = geo_mie\n",
    "\n",
    "elif loc_yourlocation == 24:\n",
    "  yourlocation = geo_shiga\n",
    "\n",
    "elif loc_yourlocation == 25:\n",
    "  yourlocation = geo_kyoto\n",
    "\n",
    "elif loc_yourlocation == 26:\n",
    "  yourlocation = geo_oosaka\n",
    "\n",
    "elif loc_yourlocation == 27:\n",
    "  yourlocation = geo_hyogo\n",
    "\n",
    "elif loc_yourlocation == 28:\n",
    "  yourlocation = geo_nara\n",
    "\n",
    "elif loc_yourlocation == 29:\n",
    "  yourlocation = geo_wakayama\n",
    "\n",
    "elif loc_yourlocation == 30:\n",
    "  yourlocation = geo_tottori\n",
    "\n",
    "elif loc_yourlocation == 31:\n",
    "  yourlocation = geo_shimane\n",
    "\n",
    "elif loc_yourlocation == 32:\n",
    "  yourlocation = geo_okayama\n",
    "\n",
    "elif loc_yourlocation == 33:\n",
    "  yourlocation = geo_hiroshima\n",
    "\n",
    "elif loc_yourlocation == 34:\n",
    "  yourlocation = geo_yamaguchi\n",
    "\n",
    "elif loc_yourlocation == 35:\n",
    "  yourlocation = geo_tokushima\n",
    "\n",
    "elif loc_yourlocation == 36:\n",
    "  yourlocation = geo_kagawa\n",
    "\n",
    "elif loc_yourlocation == 37:\n",
    "  yourlocation = geo_ehime\n",
    "\n",
    "elif loc_yourlocation == 38:\n",
    "  yourlocation = geo_kouchi\n",
    "\n",
    "elif loc_yourlocation == 39:\n",
    "  yourlocation = geo_fukuoka\n",
    "\n",
    "elif loc_yourlocation == 40:\n",
    "  yourlocation = geo_saga\n",
    "\n",
    "elif loc_yourlocation == 41:\n",
    "  yourlocation = geo_nagasaki\n",
    "\n",
    "elif loc_yourlocation == 42:\n",
    "  yourlocation = geo_kumamoto\n",
    "\n",
    "elif loc_yourlocation == 43:\n",
    "  yourlocation = geo_ooita\n",
    "\n",
    "elif loc_yourlocation == 44:\n",
    "  yourlocation = geo_miyazaki\n",
    "\n",
    "elif loc_yourlocation == 45:\n",
    "  yourlocation = geo_kagoshima\n",
    "\n",
    "else:\n",
    "  yourlocation = geo_okinawa"
   ]
  },
  {
   "cell_type": "code",
   "execution_count": 42,
   "id": "ebfb4a73",
   "metadata": {},
   "outputs": [],
   "source": [
    "ken_list = [\"hokkaido\",\"aomori\",\"iwate\",\"miyagi\",\"akita\",\"yamagata\",\"fukushima\",\"ibaragi\",\"tochigi\",\"gunma\",\"saitama\",\"chiba\",\"tokyo\",\"kanagawa\",\"niigata\",\"toyama\",\"ishikawa\",\"fukui\",\"yamanashi\",\"nagano\",\"gifu\",\"shizuoka\",\"aichi\",\"mie\",\"shiga\",\"kyoto\",\"oosaka\",\"hyogo\",\"nara\",\"wakayama\",\"tottori\",\"simane\",\"okayama\",\"hiroshima\",\"yamaguchi\",\"tokushima\",\"kagawa\",\"ehime\",\"kouchi\",\"fukuoka\",\"saga\",\"nagasaki\",\"kumamoto\",\"ooita\",\"miyazaki\",\"kagoshima\",\"okinawa\"]"
   ]
  },
  {
   "cell_type": "code",
   "execution_count": 43,
   "id": "70906a86",
   "metadata": {},
   "outputs": [
    {
     "name": "stdout",
     "output_type": "stream",
     "text": [
      "21\n",
      "(34.97694, 138.38306)\n",
      "['hokkaido', 'aomori', 'iwate', 'miyagi', 'akita', 'yamagata', 'fukushima', 'ibaragi', 'tochigi', 'gunma', 'saitama', 'chiba', 'tokyo', 'kanagawa', 'niigata', 'toyama', 'ishikawa', 'fukui', 'yamanashi', 'nagano', 'gifu', 'shizuoka', 'aichi', 'mie', 'shiga', 'kyoto', 'oosaka', 'hyogo', 'nara', 'wakayama', 'tottori', 'simane', 'okayama', 'hiroshima', 'yamaguchi', 'tokushima', 'kagawa', 'ehime', 'kouchi', 'fukuoka', 'saga', 'nagasaki', 'kumamoto', 'ooita', 'miyazaki', 'kagoshima', 'okinawa']\n"
     ]
    }
   ],
   "source": [
    "print(loc_yourlocation)\n",
    "print(yourlocation)\n",
    "print(ken_list)"
   ]
  },
  {
   "cell_type": "code",
   "execution_count": 44,
   "id": "b5bc1cfd",
   "metadata": {},
   "outputs": [],
   "source": [
    "#print(loc_aomori)"
   ]
  },
  {
   "cell_type": "code",
   "execution_count": 45,
   "id": "cc1f07e8",
   "metadata": {},
   "outputs": [],
   "source": [
    "#for i in range(loc_aomori):\n",
    "#  ken_list.pop(i)\n",
    "#print(len(ken_list))\n",
    "#print(ken_list)"
   ]
  },
  {
   "cell_type": "code",
   "execution_count": 46,
   "id": "54048961",
   "metadata": {},
   "outputs": [],
   "source": [
    "#ken = [hokkaido,aomori,iwate,miyagi,akita,yamagata,fukushima,ibaragi,tochigi,gunma,saitama,chiba,tokyo,kanagawa,niigata,toyama,ishikawa,fukui,yamanashi,nagano,gifu,shizuoka,aichi,mie,shiga,kyoto,oosaka,hyogo,nara,wakayama,tottori,simane,okayama,hiroshima,yamaguchi,tokushima,kagawa,ehime,kouchi,fukuoka,saga,nagasaki,kumamoto,ooita,miyazaki,kagoshima,okinawa]"
   ]
  },
  {
   "cell_type": "code",
   "execution_count": 47,
   "id": "e639a28c",
   "metadata": {},
   "outputs": [],
   "source": [
    "#print(len(ken))\n",
    "#print(ken)\n",
    "#for i in ken:\n",
    "#  print(i)"
   ]
  },
  {
   "cell_type": "code",
   "execution_count": 48,
   "id": "a5a64e11",
   "metadata": {},
   "outputs": [],
   "source": [
    "dis_hokkaido = geodesic(yourlocation,geo_hokkaido).km\n",
    "dis_okinawa = geodesic(yourlocation,geo_okinawa).km"
   ]
  },
  {
   "cell_type": "code",
   "execution_count": 49,
   "id": "2a573936",
   "metadata": {},
   "outputs": [],
   "source": [
    "math_01 = dis_hokkaido-dis_okinawa\n"
   ]
  },
  {
   "cell_type": "code",
   "execution_count": 50,
   "id": "e41a8af7",
   "metadata": {},
   "outputs": [
    {
     "name": "stdout",
     "output_type": "stream",
     "text": [
      "933.606574731256\n"
     ]
    }
   ],
   "source": [
    "print(dis_hokkaido)"
   ]
  },
  {
   "cell_type": "code",
   "execution_count": 51,
   "id": "109c7cb1",
   "metadata": {},
   "outputs": [
    {
     "name": "stdout",
     "output_type": "stream",
     "text": [
      "1411.5805703504461\n"
     ]
    }
   ],
   "source": [
    "print(dis_okinawa)"
   ]
  },
  {
   "cell_type": "code",
   "execution_count": 52,
   "id": "99630cda",
   "metadata": {},
   "outputs": [],
   "source": [
    "math_01 = dis_hokkaido-dis_okinawa"
   ]
  },
  {
   "cell_type": "code",
   "execution_count": 53,
   "id": "971a486c",
   "metadata": {},
   "outputs": [
    {
     "name": "stdout",
     "output_type": "stream",
     "text": [
      "-477.9739956191901\n"
     ]
    }
   ],
   "source": [
    "print(math_01)"
   ]
  },
  {
   "cell_type": "code",
   "execution_count": 54,
   "id": "ede8532b",
   "metadata": {},
   "outputs": [],
   "source": [
    "#geomath = geodesic(A,B).km"
   ]
  },
  {
   "cell_type": "code",
   "execution_count": 55,
   "id": "361ebe55",
   "metadata": {},
   "outputs": [
    {
     "name": "stdout",
     "output_type": "stream",
     "text": [
      "沖縄から観光\n"
     ]
    }
   ],
   "source": [
    "if math_01 < 0:\n",
    "  print(\"沖縄から観光\")\n",
    "else:\n",
    "  print(\"北海道から観光\")"
   ]
  },
  {
   "cell_type": "code",
   "execution_count": 56,
   "id": "9a006596",
   "metadata": {},
   "outputs": [
    {
     "name": "stdout",
     "output_type": "stream",
     "text": [
      "47\n",
      "['hokkaido', 'aomori', 'iwate', 'miyagi', 'akita', 'yamagata', 'fukushima', 'ibaragi', 'tochigi', 'gunma', 'saitama', 'chiba', 'tokyo', 'kanagawa', 'niigata', 'toyama', 'ishikawa', 'fukui', 'yamanashi', 'nagano', 'gifu', 'shizuoka', 'aichi', 'mie', 'shiga', 'kyoto', 'oosaka', 'hyogo', 'nara', 'wakayama', 'tottori', 'simane', 'okayama', 'hiroshima', 'yamaguchi', 'tokushima', 'kagawa', 'ehime', 'kouchi', 'fukuoka', 'saga', 'nagasaki', 'kumamoto', 'ooita', 'miyazaki', 'kagoshima', 'okinawa']\n"
     ]
    }
   ],
   "source": [
    "print(len(ken_list))\n",
    "print(ken_list)"
   ]
  },
  {
   "cell_type": "code",
   "execution_count": 57,
   "id": "1cd5ded5",
   "metadata": {},
   "outputs": [],
   "source": [
    "#import random\n",
    "#loc_yourlocation = random.randint(0,45)\n",
    "#print(loc_yourlocation)"
   ]
  },
  {
   "cell_type": "code",
   "execution_count": 58,
   "id": "ae68d840",
   "metadata": {},
   "outputs": [],
   "source": [
    "from time import sleep"
   ]
  },
  {
   "cell_type": "code",
   "execution_count": 59,
   "id": "88585fcb",
   "metadata": {},
   "outputs": [],
   "source": [
    "#del ken_list[0:loc_yourlocation+1]\n",
    "#print(len(ken_list))"
   ]
  },
  {
   "cell_type": "code",
   "execution_count": 60,
   "id": "c8f8d2bd",
   "metadata": {},
   "outputs": [
    {
     "name": "stdout",
     "output_type": "stream",
     "text": [
      "['hokkaido', 'aomori', 'iwate', 'miyagi', 'akita', 'yamagata', 'fukushima', 'ibaragi', 'tochigi', 'gunma', 'saitama', 'chiba', 'tokyo', 'kanagawa', 'niigata', 'toyama', 'ishikawa', 'fukui', 'yamanashi', 'nagano', 'gifu', 'shizuoka', 'aichi', 'mie', 'shiga', 'kyoto', 'oosaka', 'hyogo', 'nara', 'wakayama', 'tottori', 'simane', 'okayama', 'hiroshima', 'yamaguchi', 'tokushima', 'kagawa', 'ehime', 'kouchi', 'fukuoka', 'saga', 'nagasaki', 'kumamoto', 'ooita', 'miyazaki', 'kagoshima', 'okinawa']\n"
     ]
    }
   ],
   "source": [
    "print(ken_list)"
   ]
  },
  {
   "cell_type": "code",
   "execution_count": 61,
   "id": "7517debc",
   "metadata": {},
   "outputs": [
    {
     "name": "stdout",
     "output_type": "stream",
     "text": [
      "わたし、めりーさん\n",
      "今日はどこへ行こうかしら\n",
      "今 okinawaにいるの\n"
     ]
    },
    {
     "name": "stderr",
     "output_type": "stream",
     "text": [
      "C:\\Users\\nekot\\AppData\\Local\\Temp\\ipykernel_27524\\3484814993.py:16: DeprecationWarning: find_element_by_name is deprecated. Please use find_element(by=By.NAME, value=name) instead\n",
      "  elem_mapsearch = browser.find_element_by_name('q')\n",
      "C:\\Users\\nekot\\AppData\\Local\\Temp\\ipykernel_27524\\3484814993.py:19: DeprecationWarning: find_element_by_name is deprecated. Please use find_element(by=By.NAME, value=name) instead\n",
      "  elem_search_btn = browser.find_element_by_name('btnK')\n",
      "C:\\Users\\nekot\\AppData\\Local\\Temp\\ipykernel_27524\\3484814993.py:22: DeprecationWarning: find_element_by_css_selector is deprecated. Please use find_element(by=By.CSS_SELECTOR, value=css_selector) instead\n",
      "  elem_spanclass_spot = browser.find_element_by_css_selector('span.aVSTQd.tNxQIb.OSrXXb')\n",
      "C:\\Users\\nekot\\AppData\\Local\\Temp\\ipykernel_27524\\3484814993.py:23: DeprecationWarning: find_element_by_css_selector is deprecated. Please use find_element(by=By.CSS_SELECTOR, value=css_selector) instead\n",
      "  elem_spanclass_comment = browser.find_element_by_css_selector('span.ZIF80')\n",
      "C:\\Users\\nekot\\AppData\\Local\\Temp\\ipykernel_27524\\3484814993.py:24: DeprecationWarning: find_element_by_css_selector is deprecated. Please use find_element(by=By.CSS_SELECTOR, value=css_selector) instead\n",
      "  elem_spanclass_hoshi = browser.find_element_by_css_selector(' span.WYGzTd')\n"
     ]
    },
    {
     "name": "stdout",
     "output_type": "stream",
     "text": [
      "さっき サメなどを展示する広大な水族館 で有名な 沖縄美ら海水族館 に行ってきたの   評価は、★\n",
      "4.5 ってところね\n",
      " \n",
      "わたし、めりーさん\n",
      "今日はどこへ行こうかしら\n",
      "今 kagoshimaにいるの\n",
      "さっき 日本庭園と歴史のある邸宅の見学ツアー で有名な 仙巌園 に行ってきたの   評価は、★\n",
      "4.3 ってところね\n",
      " \n",
      "わたし、めりーさん\n",
      "今日はどこへ行こうかしら\n",
      "今 miyazakiにいるの\n",
      "さっき 森に囲まれたシンプルな木造の神社 で有名な 宮﨑神宮 に行ってきたの   評価は、★\n",
      "4.4 ってところね\n",
      " \n",
      "わたし、めりーさん\n",
      "今日はどこへ行こうかしら\n",
      "今 ooitaにいるの\n",
      "さっき 海洋生物のショーがある大規模な水族館 で有名な 大分マリーンパレス水族館「うみたまご」 に行ってきたの   評価は、★\n",
      "4.3 ってところね\n",
      " \n",
      "わたし、めりーさん\n",
      "今日はどこへ行こうかしら\n",
      "今 kumamotoにいるの\n",
      "さっき 博物館がある再建された城 で有名な 熊本城 に行ってきたの   評価は、★\n",
      "4.4 ってところね\n",
      " \n",
      "わたし、めりーさん\n",
      "今日はどこへ行こうかしら\n",
      "今 nagasakiにいるの\n",
      "さっき 1945 年の原爆投下に関する資料の展示 で有名な 長崎原爆資料館 に行ってきたの   評価は、★\n",
      "4.5 ってところね\n",
      " \n",
      "わたし、めりーさん\n",
      "今日はどこへ行こうかしら\n",
      "今 sagaにいるの\n",
      "さっき 堀のある木造再建城 で有名な 佐賀城跡 に行ってきたの   評価は、★\n",
      "4.2 ってところね\n",
      " \n",
      "わたし、めりーさん\n",
      "今日はどこへ行こうかしら\n",
      "今 fukuokaにいるの\n",
      "さっき 池を周回する園路や貸しボートがある公園 で有名な 大濠公園 に行ってきたの   評価は、★\n",
      "4.4 ってところね\n",
      " \n",
      "わたし、めりーさん\n",
      "今日はどこへ行こうかしら\n",
      "今 kouchiにいるの\n",
      "さっき 展示品や市内を眺望できる史跡 で有名な 高知城 に行ってきたの   評価は、★\n",
      "4.2 ってところね\n",
      " \n",
      "わたし、めりーさん\n",
      "今日はどこへ行こうかしら\n",
      "今 ehimeにいるの\n",
      "さっき 公園内にある復元された城 で有名な 松山城 に行ってきたの   評価は、★\n",
      "4.4 ってところね\n",
      " \n",
      "わたし、めりーさん\n",
      "今日はどこへ行こうかしら\n",
      "今 kagawaにいるの\n",
      "さっき 池と茶屋がある歴史的庭園 で有名な 栗林公園 に行ってきたの   評価は、★\n",
      "4.4 ってところね\n",
      " \n",
      "わたし、めりーさん\n",
      "今日はどこへ行こうかしら\n",
      "今 tokushimaにいるの\n",
      "さっき 名作の複製画を展示する美術館 で有名な 大塚国際美術館 に行ってきたの   評価は、★\n",
      "4.5 ってところね\n",
      " \n",
      "わたし、めりーさん\n",
      "今日はどこへ行こうかしら\n",
      "今 yamaguchiにいるの\n",
      "さっき 五重塔や庭園が見どころの歴史ある寺院 で有名な 瑠璃光寺 に行ってきたの   評価は、★\n",
      "4.4 ってところね\n",
      " \n",
      "わたし、めりーさん\n",
      "今日はどこへ行こうかしら\n",
      "今 hiroshimaにいるの\n",
      "さっき 原爆で破壊された建物を保存した歴史遺産 で有名な 原爆ドーム に行ってきたの   評価は、★\n",
      "4.6 ってところね\n",
      " \n",
      "わたし、めりーさん\n",
      "今日はどこへ行こうかしら\n",
      "今 okayamaにいるの\n",
      "さっき 運河沿いの歴史保存地区 で有名な 倉敷美観地区 に行ってきたの   評価は、★\n",
      "4.4 ってところね\n",
      " \n",
      "わたし、めりーさん\n",
      "今日はどこへ行こうかしら\n",
      "今 simaneにいるの\n",
      "さっき 神々を祀る代表的な神社と博物館 で有名な 出雲大社 に行ってきたの   評価は、★\n",
      "4.6 ってところね\n",
      " \n",
      "わたし、めりーさん\n",
      "今日はどこへ行こうかしら\n",
      "今 tottoriにいるの\n",
      "さっき 起伏のある広大な砂丘と美術館 で有名な 鳥取砂丘 に行ってきたの   評価は、★\n",
      "4.3 ってところね\n",
      " \n",
      "わたし、めりーさん\n",
      "今日はどこへ行こうかしら\n",
      "今 wakayamaにいるの\n",
      "さっき ジャイアント パンダがいる野生動物公園 で有名な アドベンチャーワールド に行ってきたの   評価は、★\n",
      "4.5 ってところね\n",
      " \n",
      "わたし、めりーさん\n",
      "今日はどこへ行こうかしら\n",
      "今 naraにいるの\n",
      "さっき 寺社、博物館、鹿で知られる公園 で有名な 奈良公園 に行ってきたの   評価は、★\n",
      "4.5 ってところね\n",
      " \n",
      "わたし、めりーさん\n",
      "今日はどこへ行こうかしら\n",
      "今 hyogoにいるの\n",
      "さっき 港近くのショッピングとエンターテインメントの地区 で有名な 神戸ハーバーランド に行ってきたの   評価は、★\n",
      "4.2 ってところね\n",
      " \n",
      "わたし、めりーさん\n",
      "今日はどこへ行こうかしら\n",
      "今 oosakaにいるの\n",
      "さっき レストランや劇場が並ぶ人気エリア で有名な 道頓堀 に行ってきたの   評価は、★\n",
      "4.3 ってところね\n",
      " \n",
      "わたし、めりーさん\n",
      "今日はどこへ行こうかしら\n",
      "今 kyotoにいるの\n",
      "さっき 千本鳥居で知られる神社 で有名な 伏見稲荷大社 に行ってきたの   評価は、★\n",
      "4.6 ってところね\n",
      " \n",
      "わたし、めりーさん\n",
      "今日はどこへ行こうかしら\n",
      "今 shigaにいるの\n",
      "さっき 歴史の長い仏教寺院 で有名な 延暦寺 に行ってきたの   評価は、★\n",
      "4.3 ってところね\n",
      " \n",
      "わたし、めりーさん\n",
      "今日はどこへ行こうかしら\n",
      "今 mieにいるの\n",
      "さっき 7 世紀建立の神宮 で有名な 伊勢神宮 に行ってきたの   評価は、★\n",
      "4.7 ってところね\n",
      " \n",
      "わたし、めりーさん\n",
      "今日はどこへ行こうかしら\n",
      "今 aichiにいるの\n",
      "さっき 神聖な剣をご神体とする有名な神社 で有名な 熱田神宮 に行ってきたの   評価は、★\n",
      "4.5 ってところね\n",
      " \n"
     ]
    }
   ],
   "source": [
    "#print(len(ken_list))\n",
    "if math_01 < 0:\n",
    "#  print(\"沖縄から観光\")#北海道が近い場合\n",
    "  del ken_list[0:loc_yourlocation+1]\n",
    "  ken_list.reverse()\n",
    "  \n",
    "  for j in ken_list:\n",
    "  \n",
    "    print(\"わたし、めりーさん\")\n",
    "    sleep(2)\n",
    "    print(\"今日はどこへ行こうかしら\")\n",
    "    sleep(2)\n",
    "    print(\"今 \" + j + \"にいるの\" )\n",
    "    browser = webdriver.Chrome()\n",
    "    browser.get('https://www.google.co.jp/')\n",
    "    elem_mapsearch = browser.find_element_by_name('q')\n",
    "    elem_mapsearch.send_keys(j + \" 観光地\")\n",
    "    sleep(2)\n",
    "    elem_search_btn = browser.find_element_by_name('btnK')\n",
    "    elem_search_btn.click()\n",
    "    sleep(2)\n",
    "    elem_spanclass_spot = browser.find_element_by_css_selector('span.aVSTQd.tNxQIb.OSrXXb')\n",
    "    elem_spanclass_comment = browser.find_element_by_css_selector('span.ZIF80')\n",
    "    elem_spanclass_hoshi = browser.find_element_by_css_selector(' span.WYGzTd')\n",
    "    print(\"さっき \" + elem_spanclass_comment.text + ' で有名な ' + elem_spanclass_spot.text + \" に行ってきたの \" + \"  評価は、★\")\n",
    "    sleep(2)\n",
    "    print(elem_spanclass_hoshi.text + \" ってところね\" )\n",
    "    print(\" \")\n",
    "    sleep(3)\n",
    "\n",
    "else:\n",
    "#  print(\"北海道から観光\") #沖縄が近い場合\n",
    "  del ken_list[loc_yourlocation:47]\n",
    "  \n",
    "  \n",
    "  for j in ken_list:\n",
    "  \n",
    "    print(\"わたし、めりーさん\")\n",
    "    sleep(2)\n",
    "    print(\"今日はどこへ行こうかしら\")\n",
    "    sleep(2)\n",
    "    print(\"今 \" + j + \" にいるの\" )\n",
    "    browser = webdriver.Chrome()\n",
    "    browser.get('https://www.google.co.jp/')\n",
    "    elem_mapsearch = browser.find_element_by_name('q')\n",
    "    elem_mapsearch.send_keys(j + \" 観光地\")\n",
    "    sleep(2)\n",
    "    elem_search_btn = browser.find_element_by_name('btnK')\n",
    "    elem_search_btn.click()\n",
    "    sleep(2)\n",
    "    elem_spanclass_spot = browser.find_element_by_css_selector('span.aVSTQd.tNxQIb.OSrXXb')\n",
    "    elem_spanclass_comment = browser.find_element_by_css_selector('span.ZIF80')\n",
    "    elem_spanclass_hoshi = browser.find_element_by_css_selector(' span.WYGzTd')\n",
    "    print(\"さっき \" + elem_spanclass_comment.text + ' で有名な ' + elem_spanclass_spot.text + \" に行ってきたの \")\n",
    "    sleep(2)\n",
    "    print(\"評価は、★\" + elem_spanclass_hoshi.text + \" ってところね\" )\n",
    "    print(\" \")\n",
    "    sleep(3)"
   ]
  },
  {
   "cell_type": "code",
   "execution_count": 62,
   "id": "00d9fa73",
   "metadata": {},
   "outputs": [],
   "source": [
    "#del ken_list[0:32]\n",
    "#print(ken_list)"
   ]
  },
  {
   "cell_type": "code",
   "execution_count": 63,
   "id": "d398c7ae",
   "metadata": {},
   "outputs": [
    {
     "name": "stdout",
     "output_type": "stream",
     "text": [
      "['aichi', 'mie', 'shiga', 'kyoto', 'oosaka', 'hyogo', 'nara', 'wakayama', 'tottori', 'simane', 'okayama', 'hiroshima', 'yamaguchi', 'tokushima', 'kagawa', 'ehime', 'kouchi', 'fukuoka', 'saga', 'nagasaki', 'kumamoto', 'ooita', 'miyazaki', 'kagoshima', 'okinawa']\n"
     ]
    }
   ],
   "source": [
    "ken_list.reverse()\n",
    "print(ken_list)"
   ]
  },
  {
   "cell_type": "code",
   "execution_count": 64,
   "id": "82e2a837",
   "metadata": {},
   "outputs": [
    {
     "name": "stdout",
     "output_type": "stream",
     "text": [
      "わたし、めりーさん\n",
      "いま、あなたの家の前にいるの\n",
      "お土産で両手がいっぱいだから、はやく開けてちょうだい\n",
      "thank you for watchin Yoshiki Miyoshi\n"
     ]
    }
   ],
   "source": [
    "print(\"わたし、めりーさん\")\n",
    "sleep(5)\n",
    "print(\"いま、あなたの家の前にいるの\")\n",
    "sleep(5)\n",
    "print(\"お土産で両手がいっぱいだから、はやく開けてちょうだい\")\n",
    "sleep(3)\n",
    "print(\"thank you for watchin Yoshiki Miyoshi\")"
   ]
  }
 ],
 "metadata": {
  "kernelspec": {
   "display_name": "Python 3.9.13 ('base')",
   "language": "python",
   "name": "python3"
  },
  "language_info": {
   "codemirror_mode": {
    "name": "ipython",
    "version": 3
   },
   "file_extension": ".py",
   "mimetype": "text/x-python",
   "name": "python",
   "nbconvert_exporter": "python",
   "pygments_lexer": "ipython3",
   "version": "3.9.13"
  },
  "vscode": {
   "interpreter": {
    "hash": "1bafd2bcef2f4d923bd77c7ce895d1f4d384ac9bc402929086ad07215babbdf7"
   }
  }
 },
 "nbformat": 4,
 "nbformat_minor": 5
}
